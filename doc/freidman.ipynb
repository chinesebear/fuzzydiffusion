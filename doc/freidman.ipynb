{
 "cells": [
  {
   "cell_type": "code",
   "execution_count": 16,
   "metadata": {},
   "outputs": [
    {
     "name": "stdout",
     "output_type": "stream",
     "text": [
      "16.0\n",
      "0.04238011199168396\n",
      "24.62833099579242\n",
      "0.001796662732579893\n"
     ]
    }
   ],
   "source": [
    "# LSUN_Church\n",
    "from scipy.stats import friedmanchisquare\n",
    "DDPM=[7.89,7.19,13.55,10.24,0.17,0.31,0.56,0.51 ]\n",
    "DDIM=[7.76,7.16,13.65,11.02,0.19,0.34,0.59,0.57  ]\n",
    "ADM_G=[5.13,4.58,13.56,13.21,0.19,0.37,0.65,0.60 ]\n",
    "GLIDE=[5.01,4.44,13.57,13.44,0.22,0.39,0.69,0.72 ]\n",
    "CFDG=[5.91,5.35,12.59,12.34,0.20,0.34,0.60,0.68 ]\n",
    "unCLIP=[4.88,4.27,13.34,14.03,0.19,0.33,0.61,0.65 ]\n",
    "LDM=[4.02,3.91,13.45,14.47,0.21,0.36,0.64,0.52 ]\n",
    "SDG=[6.01,5.95,12.11,10.29,0.20,0.32,0.61,0.71 ]\n",
    "FRDG=[ 3.81,3.65,12.80,14.56,0.27,0.45,0.79,0.81 ]\n",
    "res_down = friedmanchisquare(DDPM[:2],DDIM[:2], ADM_G[:2], GLIDE[:2],CFDG[:2],unCLIP[:2],LDM[:2],SDG[:2],FRDG[:2])\n",
    "print(res_down.statistic)\n",
    "print(res_down.pvalue)\n",
    "res_up = friedmanchisquare(DDPM[2:],DDIM[2:], ADM_G[2:], GLIDE[2:],CFDG[2:],unCLIP[2:],LDM[2:],SDG[2:],FRDG[2:])\n",
    "print(res_up.statistic)\n",
    "print(res_up.pvalue)\n",
    "# pvalue < α = 0.05 \\alpha=0.05α=0.05, 故拒绝H0假设， 换句话说，多个模型的测量结果之间有显著差异。"
   ]
  },
  {
   "cell_type": "code",
   "execution_count": 19,
   "metadata": {},
   "outputs": [
    {
     "name": "stdout",
     "output_type": "stream",
     "text": [
      "16.0\n",
      "0.04238011199168396\n",
      "29.824267782426794\n",
      "0.00022704141165694636\n"
     ]
    }
   ],
   "source": [
    "# LSUN_Bedroom\n",
    "from scipy.stats import friedmanchisquare\n",
    "DDPM=[4.90,4.71,16.01,10.07,0.15,0.27,0.54,0.41 ]\n",
    "DDIM=[5.01,4.92,17.53,10.25,0.17,0.28,0.57,0.45 ]\n",
    "ADM_G=[3.90,3.88,17.35,10.32,0.19,0.30,0.66,0.51 ]\n",
    "GLIDE=[4.23,4.01,17.43,11.01,0.21,0.34,0.68,0.52 ]\n",
    "CFDG=[4.01,3.95,10.55,11.02,0.20,0.31,0.67,0.53 ]\n",
    "unCLIP=[3.15,3.01,17.51,12.03,0.22,0.41,0.70,0.61 ]\n",
    "LDM=[2.95,2.61,17.52,11.55,0.20,0.39,0.66,0.48 ]\n",
    "SDG=[5.19,5.03,12.57,11.20,0.19,0.32,0.65,0.44 ]\n",
    "FRDG=[ 2.81,2.54,12.75,13.54,0.23,0.51,0.77,0.68 ]\n",
    "res_down = friedmanchisquare(DDPM[:2],DDIM[:2], ADM_G[:2], GLIDE[:2],CFDG[:2],unCLIP[:2],LDM[:2],SDG[:2],FRDG[:2])\n",
    "print(res_down.statistic)\n",
    "print(res_down.pvalue)\n",
    "res_up = friedmanchisquare(DDPM[2:],DDIM[2:], ADM_G[2:], GLIDE[2:],CFDG[2:],unCLIP[2:],LDM[2:],SDG[2:],FRDG[2:])\n",
    "print(res_up.statistic)\n",
    "print(res_up.pvalue)\n",
    "# pvalue < α = 0.05 \\alpha=0.05α=0.05, 故拒绝H0假设， 换句话说，多个模型的测量结果之间有显著差异。"
   ]
  },
  {
   "cell_type": "code",
   "execution_count": 20,
   "metadata": {},
   "outputs": [
    {
     "name": "stdout",
     "output_type": "stream",
     "text": [
      "15.599999999999994\n",
      "0.04847656483305664\n",
      "26.358831710709318\n",
      "0.0009116090295120304\n"
     ]
    }
   ],
   "source": [
    "# FFHQ\n",
    "from scipy.stats import friedmanchisquare\n",
    "DDPM=[4.91,4.80,7.89,10.59,0.22,0.36,0.61,0.56 ]\n",
    "DDIM=[4.85,4.71,7.92,10.66,0.23,0.38,0.63,0.52 ]\n",
    "ADM_G=[4.81,4.69,7.86,11.01,0.27,0.41,0.65,0.55 ]\n",
    "GLIDE=[5.01,4.95,7.24,11.20,0.29,0.42,0.69,0.56 ]\n",
    "CFDG=[5.90,5.81,5.32,11.09,0.19,0.32,0.50,0.51 ]\n",
    "unCLIP=[4.80,4.72,5.65,11.26,0.31,0.46,0.70,0.57 ]\n",
    "LDM=[4.98,4.88,7.30,12.11,0.33,0.49,0.73,0.50 ]\n",
    "SDG=[19.60,17.23,4.42,10.89,0.20,0.29,0.55,0.42 ]\n",
    "FRDG=[4.21,4.11,4.56,14.27,0.38,0.56,0.76,0.73 ]\n",
    "res_down = friedmanchisquare(DDPM[:2],DDIM[:2], ADM_G[:2], GLIDE[:2],CFDG[:2],unCLIP[:2],LDM[:2],SDG[:2],FRDG[:2])\n",
    "print(res_down.statistic)\n",
    "print(res_down.pvalue)\n",
    "res_up = friedmanchisquare(DDPM[2:],DDIM[2:], ADM_G[2:], GLIDE[2:],CFDG[2:],unCLIP[2:],LDM[2:],SDG[2:],FRDG[2:])\n",
    "print(res_up.statistic)\n",
    "print(res_up.pvalue)\n",
    "# pvalue < α = 0.05 \\alpha=0.05α=0.05, 故拒绝H0假设， 换句话说，多个模型的测量结果之间有显著差异。"
   ]
  },
  {
   "cell_type": "code",
   "execution_count": 21,
   "metadata": {},
   "outputs": [
    {
     "name": "stdout",
     "output_type": "stream",
     "text": [
      "16.0\n",
      "0.04238011199168396\n",
      "18.920279720279723\n",
      "0.015291855451067676\n"
     ]
    }
   ],
   "source": [
    "# CELEBA_HQ\n",
    "from scipy.stats import friedmanchisquare\n",
    "DDPM=[18.31,18.24,4.96,10.63,0.31,0.39,0.63,0.59  ]\n",
    "DDIM=[17.33,17.37,4.99,10.99,0.33,0.41,0.65,0.61 ]\n",
    "ADM_G=[10.51,10.02,4.90,11.03,0.34,0.43,0.67,0.65 ]\n",
    "GLIDE=[8.51,8.25,4.92,11.54,0.35,0.44,0.71,0.64 ]\n",
    "CFDG=[10.79,10.43,4.01,10.06,0.34,0.42,0.66,0.63 ]\n",
    "unCLIP=[5.23,5.13,4.46,12.56,0.35,0.49,0.73,0.65 ]\n",
    "LDM=[5.11,5.01,4.52,12.71,0.38,0.50,0.72,0.49 ]\n",
    "SDG=[6.23,6.11,3.58,11.89,0.36,0.46,0.66,0.63 ]\n",
    "FRDG=[4.95,4.51,2.93,13.93,0.44,0.59,0.74,0.70  ]\n",
    "res_down = friedmanchisquare(DDPM[:2],DDIM[:2], ADM_G[:2], GLIDE[:2],CFDG[:2],unCLIP[:2],LDM[:2],SDG[:2],FRDG[:2])\n",
    "print(res_down.statistic)\n",
    "print(res_down.pvalue)\n",
    "res_up = friedmanchisquare(DDPM[2:],DDIM[2:], ADM_G[2:], GLIDE[2:],CFDG[2:],unCLIP[2:],LDM[2:],SDG[2:],FRDG[2:])\n",
    "print(res_up.statistic)\n",
    "print(res_up.pvalue)\n",
    "# pvalue < α = 0.05 \\alpha=0.05α=0.05, 故拒绝H0假设， 换句话说，多个模型的测量结果之间有显著差异。"
   ]
  },
  {
   "cell_type": "code",
   "execution_count": 22,
   "metadata": {},
   "outputs": [
    {
     "name": "stdout",
     "output_type": "stream",
     "text": [
      "15.76569037656904\n",
      "0.045859253789638225\n",
      "37.65269461077846\n",
      "8.725908501102151e-06\n"
     ]
    }
   ],
   "source": [
    "# MS_COCO\n",
    "from scipy.stats import friedmanchisquare\n",
    "DDPM=[12.89,12.69,14.91,9.51,0.15,0.31,0.59,0.54,10.23  ]\n",
    "DDIM=[12.51,12.23,15.02,9.59,0.16,0.33,0.60,0.59,12.62 ]\n",
    "ADM_G=[10.89,10.23,15.61,9.78,0.17,0.36,0.51,0.61,20.63  ]\n",
    "GLIDE=[7.10,7.08,16.50,9.91,0.21,0.35,0.56,0.63,28.50 ]\n",
    "CFDG=[13.23,13.13,20.45,10.23,0.21,0.36,0.59,0.52,27.23  ]\n",
    "unCLIP=[7.01,6.89,21.51,10.56,0.22,0.39,0.61,0.53,28.21 ]\n",
    "LDM=[12.63,12.43,30.29,11.02,0.22,0.41,0.63,0.58,29.31]\n",
    "SDG=[12.89,12.34,32.31,11.21,0.23,0.42,0.71,0.57,29.43 ]\n",
    "FRDG=[6.29,6.12,39.15,11.52,0.24,0.48,0.89,0.59,29.61 ]\n",
    "res_down = friedmanchisquare(DDPM[:2],DDIM[:2], ADM_G[:2], GLIDE[:2],CFDG[:2],unCLIP[:2],LDM[:2],SDG[:2],FRDG[:2])\n",
    "print(res_down.statistic)\n",
    "print(res_down.pvalue)\n",
    "res_up = friedmanchisquare(DDPM[2:],DDIM[2:], ADM_G[2:], GLIDE[2:],CFDG[2:],unCLIP[2:],LDM[2:],SDG[2:],FRDG[2:])\n",
    "print(res_up.statistic)\n",
    "print(res_up.pvalue)\n",
    "# pvalue < α = 0.05 \\alpha=0.05α=0.05, 故拒绝H0假设， 换句话说，多个模型的测量结果之间有显著差异。"
   ]
  }
 ],
 "metadata": {
  "kernelspec": {
   "display_name": "Python 3",
   "language": "python",
   "name": "python3"
  },
  "language_info": {
   "codemirror_mode": {
    "name": "ipython",
    "version": 3
   },
   "file_extension": ".py",
   "mimetype": "text/x-python",
   "name": "python",
   "nbconvert_exporter": "python",
   "pygments_lexer": "ipython3",
   "version": "3.10.12"
  }
 },
 "nbformat": 4,
 "nbformat_minor": 2
}
