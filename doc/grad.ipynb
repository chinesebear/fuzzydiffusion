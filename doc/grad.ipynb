{
 "cells": [
  {
   "cell_type": "code",
   "execution_count": 3,
   "metadata": {},
   "outputs": [
    {
     "name": "stdout",
     "output_type": "stream",
     "text": [
      "tensor([[0., 1., 2., 3.],\n",
      "        [1., 2., 3., 4.],\n",
      "        [2., 3., 4., 5.]], requires_grad=True)\n",
      "tensor([[ 0.,  1.,  4.,  9.],\n",
      "        [ 1.,  4.,  9., 16.],\n",
      "        [ 4.,  9., 16., 25.]], grad_fn=<PowBackward0>)\n",
      "tensor([[1., 1., 1., 1.],\n",
      "        [1., 1., 1., 1.],\n",
      "        [1., 1., 1., 1.]])\n",
      "tensor([[ 0.,  2.,  4.,  6.],\n",
      "        [ 2.,  4.,  6.,  8.],\n",
      "        [ 4.,  6.,  8., 10.]], grad_fn=<MulBackward0>)\n",
      "tensor([[2., 2., 2., 2.],\n",
      "        [2., 2., 2., 2.],\n",
      "        [2., 2., 2., 2.]], grad_fn=<MulBackward0>)\n"
     ]
    }
   ],
   "source": [
    "import torch\n",
    " \n",
    "x = torch.randn(3, 4).requires_grad_(True)\n",
    "with torch.no_grad():\n",
    "    for i in range(3):\n",
    "        for j in range(4):\n",
    "            x[i][j] = i + j\n",
    "y = x ** 2\n",
    "print(x)\n",
    "print(y)\n",
    "weight = torch.ones(y.size())\n",
    "print(weight)\n",
    "dydx = torch.autograd.grad(outputs=y,\n",
    "                           inputs=x,\n",
    "                           grad_outputs=weight,\n",
    "                           retain_graph=True,\n",
    "                           create_graph=True,\n",
    "                           only_inputs=True)\n",
    "\"\"\"(x**2)' = 2*x \"\"\"\n",
    "print(dydx[0])\n",
    "d2ydx2 = torch.autograd.grad(outputs=dydx[0],\n",
    "                             inputs=x,\n",
    "                             grad_outputs=weight,\n",
    "                             retain_graph=True,\n",
    "                             create_graph=True,\n",
    "                             only_inputs=True)\n",
    "print(d2ydx2[0])"
   ]
  }
 ],
 "metadata": {
  "kernelspec": {
   "display_name": "Python 3",
   "language": "python",
   "name": "python3"
  },
  "language_info": {
   "codemirror_mode": {
    "name": "ipython",
    "version": 3
   },
   "file_extension": ".py",
   "mimetype": "text/x-python",
   "name": "python",
   "nbconvert_exporter": "python",
   "pygments_lexer": "ipython3",
   "version": "3.10.12"
  }
 },
 "nbformat": 4,
 "nbformat_minor": 2
}
