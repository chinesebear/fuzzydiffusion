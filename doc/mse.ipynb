{
 "cells": [
  {
   "cell_type": "code",
   "execution_count": 4,
   "metadata": {},
   "outputs": [
    {
     "name": "stdout",
     "output_type": "stream",
     "text": [
      "平均值为：83.885000\n",
      "方差为：0.018075\n",
      "总体标准差为: 0.134443\n",
      "样本标准差为: 0.155242\n"
     ]
    }
   ],
   "source": [
    "import numpy as np \n",
    "# arr = [89.43,89.74,89.40,90.26]\n",
    "# arr = [80.40,79.89,79.88,79.85]\n",
    "arr = [84.01,83.83,83.69,84.01]\n",
    "# 求均值\n",
    "arr_mean = np.mean(arr)\n",
    " \n",
    "# 求方差\n",
    "arr_var = np.var(arr)\n",
    " \n",
    "# 求总体标准差\n",
    "arr_std_1 = np.std(arr)\n",
    " \n",
    "# 求样本标准差\n",
    "arr_std_2 = np.std(arr, ddof=1)\n",
    " \n",
    "print(\"平均值为：%f\" % arr_mean)\n",
    "print(\"方差为：%f\" % arr_var)\n",
    "print(\"总体标准差为: %f\" % arr_std_1)\n",
    "print(\"样本标准差为: %f\" % arr_std_2)"
   ]
  }
 ],
 "metadata": {
  "kernelspec": {
   "display_name": "fldm",
   "language": "python",
   "name": "python3"
  },
  "language_info": {
   "codemirror_mode": {
    "name": "ipython",
    "version": 3
   },
   "file_extension": ".py",
   "mimetype": "text/x-python",
   "name": "python",
   "nbconvert_exporter": "python",
   "pygments_lexer": "ipython3",
   "version": "3.8.5"
  }
 },
 "nbformat": 4,
 "nbformat_minor": 2
}
