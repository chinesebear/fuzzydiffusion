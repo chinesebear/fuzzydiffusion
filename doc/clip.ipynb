{
 "cells": [
  {
   "cell_type": "code",
   "execution_count": 3,
   "metadata": {},
   "outputs": [
    {
     "data": {
      "text/plain": [
       "tensor(24.4255)"
      ]
     },
     "execution_count": 3,
     "metadata": {},
     "output_type": "execute_result"
    }
   ],
   "source": [
    "import torch\n",
    "from torchmetrics.multimodal.clip_score import CLIPScore\n",
    "from transformers import CLIPProcessor, CLIPModel\n",
    "# model = CLIPModel.from_pretrained(\"openai/clip-vit-base-patch16\")\n",
    "# model.save_pretrained(\"./clip\")\n",
    "metric = CLIPScore(model_name_or_path=\"openai/clip-vit-base-patch16\")\n",
    "score = metric(torch.randint(255, (3, 224, 224), generator=torch.manual_seed(42)), \"a photo of a cat\")\n",
    "score.detach()"
   ]
  }
 ],
 "metadata": {
  "kernelspec": {
   "display_name": "Python 3",
   "language": "python",
   "name": "python3"
  },
  "language_info": {
   "codemirror_mode": {
    "name": "ipython",
    "version": 3
   },
   "file_extension": ".py",
   "mimetype": "text/x-python",
   "name": "python",
   "nbconvert_exporter": "python",
   "pygments_lexer": "ipython3",
   "version": "3.10.12"
  }
 },
 "nbformat": 4,
 "nbformat_minor": 2
}
